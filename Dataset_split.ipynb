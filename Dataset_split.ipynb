{
 "cells": [
  {
   "cell_type": "code",
   "execution_count": 3,
   "metadata": {},
   "outputs": [],
   "source": [
    "import json\n",
    "from sklearn.model_selection import train_test_split"
   ]
  },
  {
   "cell_type": "code",
   "execution_count": 8,
   "metadata": {},
   "outputs": [],
   "source": [
    "# Split dataset into train, validation and test sets\n",
    "# The dataset is split into 70-15-15 for train, validation and test sets respectively\n",
    "\n",
    "with open('NER_TRAIN_DATA/NER_TRAIN_JUDGEMENT.json', 'r') as file:\n",
    "    data = json.load(file)\n",
    "\n",
    "# Splitting the data into Train, Dev, Test sets (80-10-10 split)\n",
    "train_data, test_data = train_test_split(data, test_size=0.3, random_state=42)\n",
    "dev_data, test_data = train_test_split(test_data, test_size=0.5, random_state=42)\n",
    "\n",
    "# Function to write data to files\n",
    "def write_to_file(file_name, data):\n",
    "    with open(file_name, 'w') as file:\n",
    "        json.dump(data, file, indent=4)\n",
    "\n",
    "# Writing to Train, Dev, Test files\n",
    "write_to_file('data/NER_TRAIN/NER_TRAIN_ALL.json', train_data)\n",
    "write_to_file('data/NER_DEV/NER_DEV_ALL.json', dev_data)\n",
    "write_to_file('data/NER_TEST/NER_TEST_ALL.json', test_data)"
   ]
  }
 ],
 "metadata": {
  "kernelspec": {
   "display_name": ".venv",
   "language": "python",
   "name": "python3"
  },
  "language_info": {
   "codemirror_mode": {
    "name": "ipython",
    "version": 3
   },
   "file_extension": ".py",
   "mimetype": "text/x-python",
   "name": "python",
   "nbconvert_exporter": "python",
   "pygments_lexer": "ipython3",
   "version": "3.10.13"
  },
  "orig_nbformat": 4
 },
 "nbformat": 4,
 "nbformat_minor": 2
}
